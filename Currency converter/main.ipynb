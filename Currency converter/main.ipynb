{
 "cells": [
  {
   "cell_type": "code",
   "execution_count": 1,
   "metadata": {},
   "outputs": [],
   "source": [
    "import requests\n",
    "\n",
    "url = \"https://api.exchangerate-api.com/v4/latest/USD\""
   ]
  },
  {
   "cell_type": "code",
   "execution_count": 2,
   "metadata": {},
   "outputs": [],
   "source": [
    "# Get currency data    \n",
    "response = requests.get(url)\n",
    "data = response.json()"
   ]
  },
  {
   "cell_type": "code",
   "execution_count": 3,
   "metadata": {},
   "outputs": [],
   "source": [
    "# Utility function to convert currency\n",
    "def convert(amount, from_curr, to_curr):\n",
    "    rate = data[\"rates\"][to_curr] / data[\"rates\"][from_curr]\n",
    "    return amount * rate\n"
   ]
  },
  {
   "cell_type": "code",
   "execution_count": 4,
   "metadata": {},
   "outputs": [],
   "source": [
    "# Input amount and currencies\n",
    "amount = float(input(\"Enter amount: \"))\n",
    "from_curr = input(\"From currency: \").upper()  \n",
    "to_curr = input(\"To currency: \").upper()  \n"
   ]
  },
  {
   "cell_type": "code",
   "execution_count": 5,
   "metadata": {},
   "outputs": [
    {
     "name": "stdout",
     "output_type": "stream",
     "text": [
      "400.00 OMR is equal to 1,041.67 USD\n"
     ]
    }
   ],
   "source": [
    "# Convert and display \n",
    "converted = convert(amount, from_curr, to_curr)\n",
    "print(f\"{amount:,.2f} {from_curr} is equal to {converted:,.2f} {to_curr}\")"
   ]
  }
 ],
 "metadata": {
  "kernelspec": {
   "display_name": "Python 3",
   "language": "python",
   "name": "python3"
  },
  "language_info": {
   "codemirror_mode": {
    "name": "ipython",
    "version": 3
   },
   "file_extension": ".py",
   "mimetype": "text/x-python",
   "name": "python",
   "nbconvert_exporter": "python",
   "pygments_lexer": "ipython3",
   "version": "3.10.6"
  }
 },
 "nbformat": 4,
 "nbformat_minor": 2
}
