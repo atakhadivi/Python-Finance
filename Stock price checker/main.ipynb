{
 "cells": [
  {
   "cell_type": "code",
   "execution_count": 1,
   "metadata": {},
   "outputs": [],
   "source": [
    "import yfinance as yf"
   ]
  },
  {
   "cell_type": "code",
   "execution_count": 2,
   "metadata": {},
   "outputs": [],
   "source": [
    "# List of stocks \n",
    "stocks = [\"AAPL\", \"MSFT\", \"TSLA\", \"GOOG\"]\n"
   ]
  },
  {
   "cell_type": "code",
   "execution_count": 3,
   "metadata": {},
   "outputs": [],
   "source": [
    "# Utility function to calculate % change \n",
    "def get_change_percent(current, previous):\n",
    "    try:\n",
    "        return ((current - previous) / previous) * 100.0\n",
    "    except ZeroDivisionError:\n",
    "        return float('nan')  "
   ]
  },
  {
   "cell_type": "code",
   "execution_count": 4,
   "metadata": {},
   "outputs": [],
   "source": [
    "# Format current price and percentage change\n",
    "def format_output(name, price, change):\n",
    "    return (f'{name}: ${price:,.2f} Change: {change:,.2f}%')\n"
   ]
  },
  {
   "cell_type": "code",
   "execution_count": 5,
   "metadata": {},
   "outputs": [
    {
     "name": "stdout",
     "output_type": "stream",
     "text": [
      "AAPL: $188.85 Change: 0.41%\n",
      "MSFT: $420.55 Change: 1.56%\n",
      "TSLA: $193.57 Change: 2.12%\n",
      "GOOG: $150.22 Change: 2.04%\n"
     ]
    }
   ],
   "source": [
    "\n",
    "# Loop over each stock \n",
    "for stock in stocks:\n",
    "\n",
    "    # Fetch current and previous trading day closing prices\n",
    "    data = yf.Ticker(stock).history(period=\"2d\")  \n",
    "    price = data[\"Close\"][-1] \n",
    "    prev_close = data[\"Close\"][-2]\n",
    "\n",
    "    # Calculate percentage change\n",
    "    change_pct = get_change_percent(price, prev_close) \n",
    "\n",
    "    # Print output\n",
    "    print(format_output(stock, price, change_pct))"
   ]
  },
  {
   "cell_type": "code",
   "execution_count": null,
   "metadata": {},
   "outputs": [],
   "source": []
  }
 ],
 "metadata": {
  "kernelspec": {
   "display_name": "Python 3",
   "language": "python",
   "name": "python3"
  },
  "language_info": {
   "codemirror_mode": {
    "name": "ipython",
    "version": 3
   },
   "file_extension": ".py",
   "mimetype": "text/x-python",
   "name": "python",
   "nbconvert_exporter": "python",
   "pygments_lexer": "ipython3",
   "version": "3.10.6"
  }
 },
 "nbformat": 4,
 "nbformat_minor": 2
}
