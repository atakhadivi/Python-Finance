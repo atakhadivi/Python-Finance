{
 "cells": [
  {
   "cell_type": "code",
   "execution_count": 1,
   "metadata": {},
   "outputs": [],
   "source": [
    "import requests\n",
    "import json"
   ]
  },
  {
   "cell_type": "code",
   "execution_count": 2,
   "metadata": {},
   "outputs": [],
   "source": [
    "# List of stocks to check\n",
    "stocks = [\"AAPL\", \"MSFT\", \"TSLA\", \"GOOG\"]  \n",
    "\n",
    "# Finance API URL\n",
    "url = \"https://financialmodelingprep.com/api/v3/stock/real-time-price/\"\n"
   ]
  },
  {
   "cell_type": "code",
   "execution_count": 3,
   "metadata": {},
   "outputs": [],
   "source": [
    "def get_change_percent(current, previous):\n",
    "    if current == previous:\n",
    "        return 0.0\n",
    "    try:\n",
    "        return ((current - previous) / previous) * 100.0\n",
    "    except ZeroDivisionError:\n",
    "        return float('nan')"
   ]
  },
  {
   "cell_type": "code",
   "execution_count": 4,
   "metadata": {},
   "outputs": [
    {
     "ename": "NameError",
     "evalue": "name 'query' is not defined",
     "output_type": "error",
     "traceback": [
      "\u001b[0;31m---------------------------------------------------------------------------\u001b[0m",
      "\u001b[0;31mNameError\u001b[0m                                 Traceback (most recent call last)",
      "Cell \u001b[0;32mIn [4], line 3\u001b[0m\n\u001b[1;32m      1\u001b[0m \u001b[38;5;28;01mfor\u001b[39;00m stock \u001b[38;5;129;01min\u001b[39;00m stocks:\n\u001b[1;32m      2\u001b[0m     \u001b[38;5;66;03m# API request\u001b[39;00m\n\u001b[0;32m----> 3\u001b[0m     response \u001b[38;5;241m=\u001b[39m requests\u001b[38;5;241m.\u001b[39mget(url, params\u001b[38;5;241m=\u001b[39m\u001b[43mquery\u001b[49m) \n\u001b[1;32m      4\u001b[0m     data \u001b[38;5;241m=\u001b[39m json\u001b[38;5;241m.\u001b[39mloads(response\u001b[38;5;241m.\u001b[39mtext)\n\u001b[1;32m      5\u001b[0m     \u001b[38;5;28mprint\u001b[39m(data)\n",
      "\u001b[0;31mNameError\u001b[0m: name 'query' is not defined"
     ]
    }
   ],
   "source": [
    "for stock in stocks:\n",
    "    # API request\n",
    "    response = requests.get(url, params=query) \n",
    "    data = json.loads(response.text)\n",
    "    print(data)\n",
    "    # Extract data  \n",
    "    price = data[\"price\"]  \n",
    "    prev_close = data[\"previousClose\"]\n",
    "    query = {\"symbol\": stock}  \n",
    "    response = requests.get(url, params=query)\n",
    "    data = json.loads(response.text)[0] \n",
    "\n",
    "    price = data[\"price\"]\n",
    "    prev_close = data[\"previousClose\"]\n",
    "\n",
    "    change_pct = get_change_percent(price, prev_close)\n",
    "    \n",
    "    print(stock + \": \" + str(price), \"Change: \", str(round(change_pct, 2)) + \"%\")"
   ]
  },
  {
   "cell_type": "code",
   "execution_count": null,
   "metadata": {},
   "outputs": [],
   "source": []
  }
 ],
 "metadata": {
  "kernelspec": {
   "display_name": "Python 3",
   "language": "python",
   "name": "python3"
  },
  "language_info": {
   "codemirror_mode": {
    "name": "ipython",
    "version": 3
   },
   "file_extension": ".py",
   "mimetype": "text/x-python",
   "name": "python",
   "nbconvert_exporter": "python",
   "pygments_lexer": "ipython3",
   "version": "3.10.6"
  }
 },
 "nbformat": 4,
 "nbformat_minor": 2
}
